{
 "cells": [
  {
   "cell_type": "code",
   "execution_count": 4,
   "id": "a5ad7d7b-8ce3-4fce-803e-780c5b56c22f",
   "metadata": {},
   "outputs": [
    {
     "name": "stdout",
     "output_type": "stream",
     "text": [
      "Total number of files saved: 880\n"
     ]
    }
   ],
   "source": [
    "import os\n",
    "import shutil\n",
    "from datetime import datetime\n",
    "\n",
    "# Define the source and destination directories\n",
    "source_dir = 'Project Data'\n",
    "destination_dir = 'hourly interval'\n",
    "\n",
    "# Delete the destination directory if it exists\n",
    "if os.path.exists(destination_dir):\n",
    "    shutil.rmtree(destination_dir)\n",
    "\n",
    "# Create the destination directory\n",
    "os.makedirs(destination_dir, exist_ok=True)\n",
    "\n",
    "# Function to extract the timestamp from the filename\n",
    "def extract_timestamp(filename):\n",
    "    try:\n",
    "        # Assuming the filename format is '2701_YYYY-MM-DD_HH-MM-SS.jpg'\n",
    "        timestamp_str = filename.split('_')[1] + '_' + filename.split('_')[2].split('.')[0]\n",
    "        return datetime.strptime(timestamp_str, '%Y-%m-%d_%H-%M-%S')\n",
    "    except Exception as e:\n",
    "        print(f\"Error extracting timestamp from {filename}: {e}\")\n",
    "        return None\n",
    "\n",
    "# Filter images to only include those taken at hourly intervals\n",
    "last_hour = None\n",
    "file_count = 0\n",
    "for filename in sorted(os.listdir(source_dir)):\n",
    "    timestamp = extract_timestamp(filename)\n",
    "    if timestamp and (last_hour is None or timestamp.hour != last_hour.hour):\n",
    "        shutil.copy(os.path.join(source_dir, filename), os.path.join(destination_dir, filename))\n",
    "        last_hour = timestamp\n",
    "        file_count += 1\n",
    "\n",
    "# Print the total number of files saved\n",
    "print(f\"Total number of files saved: {file_count}\")"
   ]
  },
  {
   "cell_type": "markdown",
   "id": "b884e33c",
   "metadata": {},
   "source": [
    "Test"
   ]
  }
 ],
 "metadata": {
  "kernelspec": {
   "display_name": "Python 3",
   "language": "python",
   "name": "python3"
  },
  "language_info": {
   "codemirror_mode": {
    "name": "ipython",
    "version": 3
   },
   "file_extension": ".py",
   "mimetype": "text/x-python",
   "name": "python",
   "nbconvert_exporter": "python",
   "pygments_lexer": "ipython3",
   "version": "3.10.11"
  }
 },
 "nbformat": 4,
 "nbformat_minor": 5
}
